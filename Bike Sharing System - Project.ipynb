{
 "cells": [
  {
   "cell_type": "code",
   "execution_count": 31,
   "metadata": {},
   "outputs": [],
   "source": [
    "import pandas as pd\n",
    "import matplotlib.pyplot as plt\n",
    "import numpy as np\n",
    "from sklearn.linear_model import LinearRegression\n",
    "import seaborn as sns\n",
    "from sklearn.model_selection import train_test_split\n",
    "from sklearn.metrics import mean_squared_error"
   ]
  },
  {
   "cell_type": "code",
   "execution_count": 32,
   "metadata": {},
   "outputs": [],
   "source": [
    "ds=pd.read_csv(r\"C:\\Users\\shobhit.saxena\\Music\\Python_New\\Projects\\bikes.csv\")"
   ]
  },
  {
   "cell_type": "code",
   "execution_count": 33,
   "metadata": {},
   "outputs": [
    {
     "data": {
      "text/html": [
       "<div>\n",
       "<style scoped>\n",
       "    .dataframe tbody tr th:only-of-type {\n",
       "        vertical-align: middle;\n",
       "    }\n",
       "\n",
       "    .dataframe tbody tr th {\n",
       "        vertical-align: top;\n",
       "    }\n",
       "\n",
       "    .dataframe thead th {\n",
       "        text-align: right;\n",
       "    }\n",
       "</style>\n",
       "<table border=\"1\" class=\"dataframe\">\n",
       "  <thead>\n",
       "    <tr style=\"text-align: right;\">\n",
       "      <th></th>\n",
       "      <th>date</th>\n",
       "      <th>temperature</th>\n",
       "      <th>humidity</th>\n",
       "      <th>windspeed</th>\n",
       "      <th>count</th>\n",
       "    </tr>\n",
       "  </thead>\n",
       "  <tbody>\n",
       "    <tr>\n",
       "      <th>0</th>\n",
       "      <td>2011-01-03</td>\n",
       "      <td>2.716070</td>\n",
       "      <td>45.715346</td>\n",
       "      <td>21.414957</td>\n",
       "      <td>120.000000</td>\n",
       "    </tr>\n",
       "    <tr>\n",
       "      <th>1</th>\n",
       "      <td>2011-01-04</td>\n",
       "      <td>2.896673</td>\n",
       "      <td>54.267219</td>\n",
       "      <td>15.136882</td>\n",
       "      <td>108.000000</td>\n",
       "    </tr>\n",
       "    <tr>\n",
       "      <th>2</th>\n",
       "      <td>2011-01-05</td>\n",
       "      <td>4.235654</td>\n",
       "      <td>45.697702</td>\n",
       "      <td>17.034578</td>\n",
       "      <td>82.000000</td>\n",
       "    </tr>\n",
       "    <tr>\n",
       "      <th>3</th>\n",
       "      <td>2011-01-06</td>\n",
       "      <td>3.112643</td>\n",
       "      <td>50.237349</td>\n",
       "      <td>10.091568</td>\n",
       "      <td>88.000000</td>\n",
       "    </tr>\n",
       "    <tr>\n",
       "      <th>4</th>\n",
       "      <td>2011-01-07</td>\n",
       "      <td>2.723918</td>\n",
       "      <td>49.144928</td>\n",
       "      <td>15.738204</td>\n",
       "      <td>148.000000</td>\n",
       "    </tr>\n",
       "    <tr>\n",
       "      <th>5</th>\n",
       "      <td>2011-01-08</td>\n",
       "      <td>1.967445</td>\n",
       "      <td>48.851252</td>\n",
       "      <td>17.035029</td>\n",
       "      <td>112.333333</td>\n",
       "    </tr>\n",
       "    <tr>\n",
       "      <th>6</th>\n",
       "      <td>2011-01-09</td>\n",
       "      <td>1.210973</td>\n",
       "      <td>48.557576</td>\n",
       "      <td>18.331855</td>\n",
       "      <td>76.666667</td>\n",
       "    </tr>\n",
       "    <tr>\n",
       "      <th>7</th>\n",
       "      <td>2011-01-10</td>\n",
       "      <td>0.454501</td>\n",
       "      <td>48.263900</td>\n",
       "      <td>19.628680</td>\n",
       "      <td>41.000000</td>\n",
       "    </tr>\n",
       "    <tr>\n",
       "      <th>8</th>\n",
       "      <td>2011-01-11</td>\n",
       "      <td>1.361393</td>\n",
       "      <td>59.623460</td>\n",
       "      <td>12.414597</td>\n",
       "      <td>43.000000</td>\n",
       "    </tr>\n",
       "    <tr>\n",
       "      <th>9</th>\n",
       "      <td>2011-01-12</td>\n",
       "      <td>1.541997</td>\n",
       "      <td>54.775880</td>\n",
       "      <td>25.432188</td>\n",
       "      <td>25.000000</td>\n",
       "    </tr>\n",
       "    <tr>\n",
       "      <th>10</th>\n",
       "      <td>2011-01-13</td>\n",
       "      <td>1.158189</td>\n",
       "      <td>47.565957</td>\n",
       "      <td>25.173470</td>\n",
       "      <td>38.000000</td>\n",
       "    </tr>\n",
       "    <tr>\n",
       "      <th>11</th>\n",
       "      <td>2011-01-14</td>\n",
       "      <td>0.953048</td>\n",
       "      <td>51.329770</td>\n",
       "      <td>12.729596</td>\n",
       "      <td>54.000000</td>\n",
       "    </tr>\n",
       "    <tr>\n",
       "      <th>12</th>\n",
       "      <td>2011-01-15</td>\n",
       "      <td>1.645921</td>\n",
       "      <td>55.850225</td>\n",
       "      <td>13.090300</td>\n",
       "      <td>42.750000</td>\n",
       "    </tr>\n",
       "    <tr>\n",
       "      <th>13</th>\n",
       "      <td>2011-01-16</td>\n",
       "      <td>2.338794</td>\n",
       "      <td>60.370679</td>\n",
       "      <td>13.451004</td>\n",
       "      <td>31.500000</td>\n",
       "    </tr>\n",
       "    <tr>\n",
       "      <th>14</th>\n",
       "      <td>2011-01-17</td>\n",
       "      <td>3.031667</td>\n",
       "      <td>64.891133</td>\n",
       "      <td>13.811708</td>\n",
       "      <td>20.250000</td>\n",
       "    </tr>\n",
       "    <tr>\n",
       "      <th>15</th>\n",
       "      <td>2011-01-18</td>\n",
       "      <td>3.724539</td>\n",
       "      <td>69.411587</td>\n",
       "      <td>14.172412</td>\n",
       "      <td>9.000000</td>\n",
       "    </tr>\n",
       "    <tr>\n",
       "      <th>16</th>\n",
       "      <td>2011-01-19</td>\n",
       "      <td>7.475045</td>\n",
       "      <td>62.715350</td>\n",
       "      <td>18.562278</td>\n",
       "      <td>78.000000</td>\n",
       "    </tr>\n",
       "    <tr>\n",
       "      <th>17</th>\n",
       "      <td>2011-01-20</td>\n",
       "      <td>5.959733</td>\n",
       "      <td>51.358079</td>\n",
       "      <td>17.676844</td>\n",
       "      <td>83.000000</td>\n",
       "    </tr>\n",
       "    <tr>\n",
       "      <th>18</th>\n",
       "      <td>2011-01-21</td>\n",
       "      <td>1.779077</td>\n",
       "      <td>46.821447</td>\n",
       "      <td>28.899955</td>\n",
       "      <td>75.000000</td>\n",
       "    </tr>\n",
       "    <tr>\n",
       "      <th>19</th>\n",
       "      <td>2011-01-22</td>\n",
       "      <td>0.452718</td>\n",
       "      <td>47.466458</td>\n",
       "      <td>24.265518</td>\n",
       "      <td>78.666667</td>\n",
       "    </tr>\n",
       "    <tr>\n",
       "      <th>20</th>\n",
       "      <td>2011-01-23</td>\n",
       "      <td>-0.873641</td>\n",
       "      <td>48.111470</td>\n",
       "      <td>19.631082</td>\n",
       "      <td>82.333333</td>\n",
       "    </tr>\n",
       "    <tr>\n",
       "      <th>21</th>\n",
       "      <td>2011-01-24</td>\n",
       "      <td>-2.200000</td>\n",
       "      <td>48.756481</td>\n",
       "      <td>14.996645</td>\n",
       "      <td>86.000000</td>\n",
       "    </tr>\n",
       "    <tr>\n",
       "      <th>22</th>\n",
       "      <td>2011-01-25</td>\n",
       "      <td>4.062848</td>\n",
       "      <td>55.748088</td>\n",
       "      <td>12.961280</td>\n",
       "      <td>186.000000</td>\n",
       "    </tr>\n",
       "    <tr>\n",
       "      <th>23</th>\n",
       "      <td>2011-01-26</td>\n",
       "      <td>3.765915</td>\n",
       "      <td>69.458098</td>\n",
       "      <td>24.663452</td>\n",
       "      <td>34.000000</td>\n",
       "    </tr>\n",
       "    <tr>\n",
       "      <th>24</th>\n",
       "      <td>2011-01-27</td>\n",
       "      <td>2.648318</td>\n",
       "      <td>59.686889</td>\n",
       "      <td>11.822905</td>\n",
       "      <td>15.000000</td>\n",
       "    </tr>\n",
       "    <tr>\n",
       "      <th>25</th>\n",
       "      <td>2011-01-28</td>\n",
       "      <td>3.069429</td>\n",
       "      <td>65.579933</td>\n",
       "      <td>12.497912</td>\n",
       "      <td>38.000000</td>\n",
       "    </tr>\n",
       "    <tr>\n",
       "      <th>26</th>\n",
       "      <td>2011-01-29</td>\n",
       "      <td>2.694496</td>\n",
       "      <td>62.056845</td>\n",
       "      <td>14.017077</td>\n",
       "      <td>39.333333</td>\n",
       "    </tr>\n",
       "    <tr>\n",
       "      <th>27</th>\n",
       "      <td>2011-01-30</td>\n",
       "      <td>2.319563</td>\n",
       "      <td>58.533757</td>\n",
       "      <td>15.536242</td>\n",
       "      <td>40.666667</td>\n",
       "    </tr>\n",
       "    <tr>\n",
       "      <th>28</th>\n",
       "      <td>2011-01-31</td>\n",
       "      <td>1.944630</td>\n",
       "      <td>55.010668</td>\n",
       "      <td>17.055406</td>\n",
       "      <td>42.000000</td>\n",
       "    </tr>\n",
       "    <tr>\n",
       "      <th>29</th>\n",
       "      <td>2011-02-01</td>\n",
       "      <td>2.507948</td>\n",
       "      <td>67.619156</td>\n",
       "      <td>7.498521</td>\n",
       "      <td>47.000000</td>\n",
       "    </tr>\n",
       "    <tr>\n",
       "      <th>...</th>\n",
       "      <td>...</td>\n",
       "      <td>...</td>\n",
       "      <td>...</td>\n",
       "      <td>...</td>\n",
       "      <td>...</td>\n",
       "    </tr>\n",
       "    <tr>\n",
       "      <th>161</th>\n",
       "      <td>2011-06-13</td>\n",
       "      <td>24.503544</td>\n",
       "      <td>48.915277</td>\n",
       "      <td>25.483761</td>\n",
       "      <td>863.000000</td>\n",
       "    </tr>\n",
       "    <tr>\n",
       "      <th>162</th>\n",
       "      <td>2011-06-14</td>\n",
       "      <td>22.972039</td>\n",
       "      <td>49.613220</td>\n",
       "      <td>22.911058</td>\n",
       "      <td>727.000000</td>\n",
       "    </tr>\n",
       "    <tr>\n",
       "      <th>163</th>\n",
       "      <td>2011-06-15</td>\n",
       "      <td>24.089636</td>\n",
       "      <td>47.635751</td>\n",
       "      <td>15.680140</td>\n",
       "      <td>769.000000</td>\n",
       "    </tr>\n",
       "    <tr>\n",
       "      <th>164</th>\n",
       "      <td>2011-06-16</td>\n",
       "      <td>24.172387</td>\n",
       "      <td>59.733400</td>\n",
       "      <td>18.430601</td>\n",
       "      <td>545.000000</td>\n",
       "    </tr>\n",
       "    <tr>\n",
       "      <th>165</th>\n",
       "      <td>2011-06-17</td>\n",
       "      <td>25.207232</td>\n",
       "      <td>62.385586</td>\n",
       "      <td>13.905206</td>\n",
       "      <td>863.000000</td>\n",
       "    </tr>\n",
       "    <tr>\n",
       "      <th>166</th>\n",
       "      <td>2011-06-18</td>\n",
       "      <td>24.972669</td>\n",
       "      <td>62.579465</td>\n",
       "      <td>14.201135</td>\n",
       "      <td>808.333333</td>\n",
       "    </tr>\n",
       "    <tr>\n",
       "      <th>167</th>\n",
       "      <td>2011-06-19</td>\n",
       "      <td>24.738107</td>\n",
       "      <td>62.773344</td>\n",
       "      <td>14.497065</td>\n",
       "      <td>753.666667</td>\n",
       "    </tr>\n",
       "    <tr>\n",
       "      <th>168</th>\n",
       "      <td>2011-06-20</td>\n",
       "      <td>24.503544</td>\n",
       "      <td>62.967224</td>\n",
       "      <td>14.792994</td>\n",
       "      <td>699.000000</td>\n",
       "    </tr>\n",
       "    <tr>\n",
       "      <th>169</th>\n",
       "      <td>2011-06-21</td>\n",
       "      <td>26.780113</td>\n",
       "      <td>64.316600</td>\n",
       "      <td>15.902195</td>\n",
       "      <td>774.000000</td>\n",
       "    </tr>\n",
       "    <tr>\n",
       "      <th>170</th>\n",
       "      <td>2011-06-22</td>\n",
       "      <td>29.387839</td>\n",
       "      <td>60.803599</td>\n",
       "      <td>15.990431</td>\n",
       "      <td>661.000000</td>\n",
       "    </tr>\n",
       "    <tr>\n",
       "      <th>171</th>\n",
       "      <td>2011-06-23</td>\n",
       "      <td>29.139484</td>\n",
       "      <td>60.570933</td>\n",
       "      <td>20.736953</td>\n",
       "      <td>746.000000</td>\n",
       "    </tr>\n",
       "    <tr>\n",
       "      <th>172</th>\n",
       "      <td>2011-06-24</td>\n",
       "      <td>28.932555</td>\n",
       "      <td>53.312321</td>\n",
       "      <td>19.540087</td>\n",
       "      <td>969.000000</td>\n",
       "    </tr>\n",
       "    <tr>\n",
       "      <th>173</th>\n",
       "      <td>2011-06-25</td>\n",
       "      <td>28.242675</td>\n",
       "      <td>54.894326</td>\n",
       "      <td>16.819110</td>\n",
       "      <td>930.666667</td>\n",
       "    </tr>\n",
       "    <tr>\n",
       "      <th>174</th>\n",
       "      <td>2011-06-26</td>\n",
       "      <td>27.552795</td>\n",
       "      <td>56.476331</td>\n",
       "      <td>14.098133</td>\n",
       "      <td>892.333333</td>\n",
       "    </tr>\n",
       "    <tr>\n",
       "      <th>175</th>\n",
       "      <td>2011-06-27</td>\n",
       "      <td>26.862915</td>\n",
       "      <td>58.058336</td>\n",
       "      <td>11.377156</td>\n",
       "      <td>854.000000</td>\n",
       "    </tr>\n",
       "    <tr>\n",
       "      <th>176</th>\n",
       "      <td>2011-06-28</td>\n",
       "      <td>29.925974</td>\n",
       "      <td>56.709016</td>\n",
       "      <td>13.994655</td>\n",
       "      <td>732.000000</td>\n",
       "    </tr>\n",
       "    <tr>\n",
       "      <th>177</th>\n",
       "      <td>2011-06-29</td>\n",
       "      <td>29.139484</td>\n",
       "      <td>49.101432</td>\n",
       "      <td>22.378784</td>\n",
       "      <td>848.000000</td>\n",
       "    </tr>\n",
       "    <tr>\n",
       "      <th>178</th>\n",
       "      <td>2011-06-30</td>\n",
       "      <td>27.566603</td>\n",
       "      <td>45.541921</td>\n",
       "      <td>16.921304</td>\n",
       "      <td>1027.000000</td>\n",
       "    </tr>\n",
       "    <tr>\n",
       "      <th>179</th>\n",
       "      <td>2011-07-01</td>\n",
       "      <td>28.849753</td>\n",
       "      <td>43.424807</td>\n",
       "      <td>11.021927</td>\n",
       "      <td>1246.000000</td>\n",
       "    </tr>\n",
       "    <tr>\n",
       "      <th>180</th>\n",
       "      <td>2011-07-02</td>\n",
       "      <td>29.149853</td>\n",
       "      <td>46.135159</td>\n",
       "      <td>11.443672</td>\n",
       "      <td>1192.250000</td>\n",
       "    </tr>\n",
       "    <tr>\n",
       "      <th>181</th>\n",
       "      <td>2011-07-03</td>\n",
       "      <td>29.449952</td>\n",
       "      <td>48.845511</td>\n",
       "      <td>11.865418</td>\n",
       "      <td>1138.500000</td>\n",
       "    </tr>\n",
       "    <tr>\n",
       "      <th>182</th>\n",
       "      <td>2011-07-04</td>\n",
       "      <td>29.750052</td>\n",
       "      <td>51.555862</td>\n",
       "      <td>12.287164</td>\n",
       "      <td>1084.750000</td>\n",
       "    </tr>\n",
       "    <tr>\n",
       "      <th>183</th>\n",
       "      <td>2011-07-05</td>\n",
       "      <td>30.050152</td>\n",
       "      <td>54.266214</td>\n",
       "      <td>12.708910</td>\n",
       "      <td>1031.000000</td>\n",
       "    </tr>\n",
       "    <tr>\n",
       "      <th>184</th>\n",
       "      <td>2011-07-06</td>\n",
       "      <td>28.725576</td>\n",
       "      <td>62.804352</td>\n",
       "      <td>14.394110</td>\n",
       "      <td>784.000000</td>\n",
       "    </tr>\n",
       "    <tr>\n",
       "      <th>185</th>\n",
       "      <td>2011-07-07</td>\n",
       "      <td>30.215705</td>\n",
       "      <td>57.662853</td>\n",
       "      <td>15.058703</td>\n",
       "      <td>754.000000</td>\n",
       "    </tr>\n",
       "    <tr>\n",
       "      <th>186</th>\n",
       "      <td>2011-07-08</td>\n",
       "      <td>28.187490</td>\n",
       "      <td>63.618656</td>\n",
       "      <td>19.761499</td>\n",
       "      <td>692.000000</td>\n",
       "    </tr>\n",
       "    <tr>\n",
       "      <th>187</th>\n",
       "      <td>2011-07-09</td>\n",
       "      <td>29.070524</td>\n",
       "      <td>61.346450</td>\n",
       "      <td>21.121738</td>\n",
       "      <td>702.333333</td>\n",
       "    </tr>\n",
       "    <tr>\n",
       "      <th>188</th>\n",
       "      <td>2011-07-10</td>\n",
       "      <td>29.953558</td>\n",
       "      <td>59.074244</td>\n",
       "      <td>22.481976</td>\n",
       "      <td>712.666667</td>\n",
       "    </tr>\n",
       "    <tr>\n",
       "      <th>189</th>\n",
       "      <td>2011-07-11</td>\n",
       "      <td>30.836592</td>\n",
       "      <td>56.802038</td>\n",
       "      <td>23.842215</td>\n",
       "      <td>723.000000</td>\n",
       "    </tr>\n",
       "    <tr>\n",
       "      <th>190</th>\n",
       "      <td>2011-07-12</td>\n",
       "      <td>32.409522</td>\n",
       "      <td>52.521355</td>\n",
       "      <td>17.987135</td>\n",
       "      <td>662.000000</td>\n",
       "    </tr>\n",
       "  </tbody>\n",
       "</table>\n",
       "<p>191 rows × 5 columns</p>\n",
       "</div>"
      ],
      "text/plain": [
       "           date  temperature   humidity  windspeed        count\n",
       "0    2011-01-03     2.716070  45.715346  21.414957   120.000000\n",
       "1    2011-01-04     2.896673  54.267219  15.136882   108.000000\n",
       "2    2011-01-05     4.235654  45.697702  17.034578    82.000000\n",
       "3    2011-01-06     3.112643  50.237349  10.091568    88.000000\n",
       "4    2011-01-07     2.723918  49.144928  15.738204   148.000000\n",
       "5    2011-01-08     1.967445  48.851252  17.035029   112.333333\n",
       "6    2011-01-09     1.210973  48.557576  18.331855    76.666667\n",
       "7    2011-01-10     0.454501  48.263900  19.628680    41.000000\n",
       "8    2011-01-11     1.361393  59.623460  12.414597    43.000000\n",
       "9    2011-01-12     1.541997  54.775880  25.432188    25.000000\n",
       "10   2011-01-13     1.158189  47.565957  25.173470    38.000000\n",
       "11   2011-01-14     0.953048  51.329770  12.729596    54.000000\n",
       "12   2011-01-15     1.645921  55.850225  13.090300    42.750000\n",
       "13   2011-01-16     2.338794  60.370679  13.451004    31.500000\n",
       "14   2011-01-17     3.031667  64.891133  13.811708    20.250000\n",
       "15   2011-01-18     3.724539  69.411587  14.172412     9.000000\n",
       "16   2011-01-19     7.475045  62.715350  18.562278    78.000000\n",
       "17   2011-01-20     5.959733  51.358079  17.676844    83.000000\n",
       "18   2011-01-21     1.779077  46.821447  28.899955    75.000000\n",
       "19   2011-01-22     0.452718  47.466458  24.265518    78.666667\n",
       "20   2011-01-23    -0.873641  48.111470  19.631082    82.333333\n",
       "21   2011-01-24    -2.200000  48.756481  14.996645    86.000000\n",
       "22   2011-01-25     4.062848  55.748088  12.961280   186.000000\n",
       "23   2011-01-26     3.765915  69.458098  24.663452    34.000000\n",
       "24   2011-01-27     2.648318  59.686889  11.822905    15.000000\n",
       "25   2011-01-28     3.069429  65.579933  12.497912    38.000000\n",
       "26   2011-01-29     2.694496  62.056845  14.017077    39.333333\n",
       "27   2011-01-30     2.319563  58.533757  15.536242    40.666667\n",
       "28   2011-01-31     1.944630  55.010668  17.055406    42.000000\n",
       "29   2011-02-01     2.507948  67.619156   7.498521    47.000000\n",
       "..          ...          ...        ...        ...          ...\n",
       "161  2011-06-13    24.503544  48.915277  25.483761   863.000000\n",
       "162  2011-06-14    22.972039  49.613220  22.911058   727.000000\n",
       "163  2011-06-15    24.089636  47.635751  15.680140   769.000000\n",
       "164  2011-06-16    24.172387  59.733400  18.430601   545.000000\n",
       "165  2011-06-17    25.207232  62.385586  13.905206   863.000000\n",
       "166  2011-06-18    24.972669  62.579465  14.201135   808.333333\n",
       "167  2011-06-19    24.738107  62.773344  14.497065   753.666667\n",
       "168  2011-06-20    24.503544  62.967224  14.792994   699.000000\n",
       "169  2011-06-21    26.780113  64.316600  15.902195   774.000000\n",
       "170  2011-06-22    29.387839  60.803599  15.990431   661.000000\n",
       "171  2011-06-23    29.139484  60.570933  20.736953   746.000000\n",
       "172  2011-06-24    28.932555  53.312321  19.540087   969.000000\n",
       "173  2011-06-25    28.242675  54.894326  16.819110   930.666667\n",
       "174  2011-06-26    27.552795  56.476331  14.098133   892.333333\n",
       "175  2011-06-27    26.862915  58.058336  11.377156   854.000000\n",
       "176  2011-06-28    29.925974  56.709016  13.994655   732.000000\n",
       "177  2011-06-29    29.139484  49.101432  22.378784   848.000000\n",
       "178  2011-06-30    27.566603  45.541921  16.921304  1027.000000\n",
       "179  2011-07-01    28.849753  43.424807  11.021927  1246.000000\n",
       "180  2011-07-02    29.149853  46.135159  11.443672  1192.250000\n",
       "181  2011-07-03    29.449952  48.845511  11.865418  1138.500000\n",
       "182  2011-07-04    29.750052  51.555862  12.287164  1084.750000\n",
       "183  2011-07-05    30.050152  54.266214  12.708910  1031.000000\n",
       "184  2011-07-06    28.725576  62.804352  14.394110   784.000000\n",
       "185  2011-07-07    30.215705  57.662853  15.058703   754.000000\n",
       "186  2011-07-08    28.187490  63.618656  19.761499   692.000000\n",
       "187  2011-07-09    29.070524  61.346450  21.121738   702.333333\n",
       "188  2011-07-10    29.953558  59.074244  22.481976   712.666667\n",
       "189  2011-07-11    30.836592  56.802038  23.842215   723.000000\n",
       "190  2011-07-12    32.409522  52.521355  17.987135   662.000000\n",
       "\n",
       "[191 rows x 5 columns]"
      ]
     },
     "execution_count": 33,
     "metadata": {},
     "output_type": "execute_result"
    }
   ],
   "source": [
    "ds"
   ]
  },
  {
   "cell_type": "code",
   "execution_count": 34,
   "metadata": {},
   "outputs": [
    {
     "data": {
      "text/plain": [
       "Index(['date', 'temperature', 'humidity', 'windspeed', 'count'], dtype='object')"
      ]
     },
     "execution_count": 34,
     "metadata": {},
     "output_type": "execute_result"
    }
   ],
   "source": [
    "ds.columns"
   ]
  },
  {
   "cell_type": "code",
   "execution_count": 35,
   "metadata": {},
   "outputs": [
    {
     "data": {
      "text/html": [
       "<div>\n",
       "<style scoped>\n",
       "    .dataframe tbody tr th:only-of-type {\n",
       "        vertical-align: middle;\n",
       "    }\n",
       "\n",
       "    .dataframe tbody tr th {\n",
       "        vertical-align: top;\n",
       "    }\n",
       "\n",
       "    .dataframe thead th {\n",
       "        text-align: right;\n",
       "    }\n",
       "</style>\n",
       "<table border=\"1\" class=\"dataframe\">\n",
       "  <thead>\n",
       "    <tr style=\"text-align: right;\">\n",
       "      <th></th>\n",
       "      <th>date</th>\n",
       "      <th>temperature</th>\n",
       "      <th>humidity</th>\n",
       "      <th>windspeed</th>\n",
       "      <th>count</th>\n",
       "    </tr>\n",
       "  </thead>\n",
       "  <tbody>\n",
       "    <tr>\n",
       "      <th>0</th>\n",
       "      <td>2011-01-03</td>\n",
       "      <td>2.716070</td>\n",
       "      <td>45.715346</td>\n",
       "      <td>21.414957</td>\n",
       "      <td>120.0</td>\n",
       "    </tr>\n",
       "    <tr>\n",
       "      <th>1</th>\n",
       "      <td>2011-01-04</td>\n",
       "      <td>2.896673</td>\n",
       "      <td>54.267219</td>\n",
       "      <td>15.136882</td>\n",
       "      <td>108.0</td>\n",
       "    </tr>\n",
       "    <tr>\n",
       "      <th>2</th>\n",
       "      <td>2011-01-05</td>\n",
       "      <td>4.235654</td>\n",
       "      <td>45.697702</td>\n",
       "      <td>17.034578</td>\n",
       "      <td>82.0</td>\n",
       "    </tr>\n",
       "    <tr>\n",
       "      <th>3</th>\n",
       "      <td>2011-01-06</td>\n",
       "      <td>3.112643</td>\n",
       "      <td>50.237349</td>\n",
       "      <td>10.091568</td>\n",
       "      <td>88.0</td>\n",
       "    </tr>\n",
       "    <tr>\n",
       "      <th>4</th>\n",
       "      <td>2011-01-07</td>\n",
       "      <td>2.723918</td>\n",
       "      <td>49.144928</td>\n",
       "      <td>15.738204</td>\n",
       "      <td>148.0</td>\n",
       "    </tr>\n",
       "  </tbody>\n",
       "</table>\n",
       "</div>"
      ],
      "text/plain": [
       "         date  temperature   humidity  windspeed  count\n",
       "0  2011-01-03     2.716070  45.715346  21.414957  120.0\n",
       "1  2011-01-04     2.896673  54.267219  15.136882  108.0\n",
       "2  2011-01-05     4.235654  45.697702  17.034578   82.0\n",
       "3  2011-01-06     3.112643  50.237349  10.091568   88.0\n",
       "4  2011-01-07     2.723918  49.144928  15.738204  148.0"
      ]
     },
     "execution_count": 35,
     "metadata": {},
     "output_type": "execute_result"
    }
   ],
   "source": [
    "ds.head()"
   ]
  },
  {
   "cell_type": "code",
   "execution_count": 36,
   "metadata": {},
   "outputs": [
    {
     "data": {
      "text/html": [
       "<div>\n",
       "<style scoped>\n",
       "    .dataframe tbody tr th:only-of-type {\n",
       "        vertical-align: middle;\n",
       "    }\n",
       "\n",
       "    .dataframe tbody tr th {\n",
       "        vertical-align: top;\n",
       "    }\n",
       "\n",
       "    .dataframe thead th {\n",
       "        text-align: right;\n",
       "    }\n",
       "</style>\n",
       "<table border=\"1\" class=\"dataframe\">\n",
       "  <thead>\n",
       "    <tr style=\"text-align: right;\">\n",
       "      <th></th>\n",
       "      <th>date</th>\n",
       "      <th>temperature</th>\n",
       "      <th>humidity</th>\n",
       "      <th>windspeed</th>\n",
       "      <th>count</th>\n",
       "    </tr>\n",
       "  </thead>\n",
       "  <tbody>\n",
       "    <tr>\n",
       "      <th>186</th>\n",
       "      <td>2011-07-08</td>\n",
       "      <td>28.187490</td>\n",
       "      <td>63.618656</td>\n",
       "      <td>19.761499</td>\n",
       "      <td>692.000000</td>\n",
       "    </tr>\n",
       "    <tr>\n",
       "      <th>187</th>\n",
       "      <td>2011-07-09</td>\n",
       "      <td>29.070524</td>\n",
       "      <td>61.346450</td>\n",
       "      <td>21.121738</td>\n",
       "      <td>702.333333</td>\n",
       "    </tr>\n",
       "    <tr>\n",
       "      <th>188</th>\n",
       "      <td>2011-07-10</td>\n",
       "      <td>29.953558</td>\n",
       "      <td>59.074244</td>\n",
       "      <td>22.481976</td>\n",
       "      <td>712.666667</td>\n",
       "    </tr>\n",
       "    <tr>\n",
       "      <th>189</th>\n",
       "      <td>2011-07-11</td>\n",
       "      <td>30.836592</td>\n",
       "      <td>56.802038</td>\n",
       "      <td>23.842215</td>\n",
       "      <td>723.000000</td>\n",
       "    </tr>\n",
       "    <tr>\n",
       "      <th>190</th>\n",
       "      <td>2011-07-12</td>\n",
       "      <td>32.409522</td>\n",
       "      <td>52.521355</td>\n",
       "      <td>17.987135</td>\n",
       "      <td>662.000000</td>\n",
       "    </tr>\n",
       "  </tbody>\n",
       "</table>\n",
       "</div>"
      ],
      "text/plain": [
       "           date  temperature   humidity  windspeed       count\n",
       "186  2011-07-08    28.187490  63.618656  19.761499  692.000000\n",
       "187  2011-07-09    29.070524  61.346450  21.121738  702.333333\n",
       "188  2011-07-10    29.953558  59.074244  22.481976  712.666667\n",
       "189  2011-07-11    30.836592  56.802038  23.842215  723.000000\n",
       "190  2011-07-12    32.409522  52.521355  17.987135  662.000000"
      ]
     },
     "execution_count": 36,
     "metadata": {},
     "output_type": "execute_result"
    }
   ],
   "source": [
    "ds.tail()"
   ]
  },
  {
   "cell_type": "code",
   "execution_count": 37,
   "metadata": {},
   "outputs": [
    {
     "data": {
      "text/plain": [
       "date            object\n",
       "temperature    float64\n",
       "humidity       float64\n",
       "windspeed      float64\n",
       "count          float64\n",
       "dtype: object"
      ]
     },
     "execution_count": 37,
     "metadata": {},
     "output_type": "execute_result"
    }
   ],
   "source": [
    "ds.dtypes"
   ]
  },
  {
   "cell_type": "code",
   "execution_count": 38,
   "metadata": {},
   "outputs": [],
   "source": [
    "ds['count']=ds['count'].astype(int)"
   ]
  },
  {
   "cell_type": "code",
   "execution_count": 39,
   "metadata": {},
   "outputs": [
    {
     "data": {
      "text/plain": [
       "date            object\n",
       "temperature    float64\n",
       "humidity       float64\n",
       "windspeed      float64\n",
       "count            int32\n",
       "dtype: object"
      ]
     },
     "execution_count": 39,
     "metadata": {},
     "output_type": "execute_result"
    }
   ],
   "source": [
    "ds.dtypes"
   ]
  },
  {
   "cell_type": "code",
   "execution_count": 40,
   "metadata": {},
   "outputs": [
    {
     "data": {
      "text/plain": [
       "date           0\n",
       "temperature    0\n",
       "humidity       0\n",
       "windspeed      0\n",
       "count          0\n",
       "dtype: int64"
      ]
     },
     "execution_count": 40,
     "metadata": {},
     "output_type": "execute_result"
    }
   ],
   "source": [
    "ds.isnull().sum()"
   ]
  },
  {
   "cell_type": "code",
   "execution_count": 41,
   "metadata": {},
   "outputs": [
    {
     "data": {
      "text/plain": [
       "{'whiskers': [<matplotlib.lines.Line2D at 0xce32da0>,\n",
       "  <matplotlib.lines.Line2D at 0xce3c3c8>],\n",
       " 'caps': [<matplotlib.lines.Line2D at 0xce3c710>,\n",
       "  <matplotlib.lines.Line2D at 0xce3ca58>],\n",
       " 'boxes': [<matplotlib.lines.Line2D at 0xce32c50>],\n",
       " 'medians': [<matplotlib.lines.Line2D at 0xce3cda0>],\n",
       " 'fliers': [<matplotlib.lines.Line2D at 0xce3ce80>],\n",
       " 'means': []}"
      ]
     },
     "execution_count": 41,
     "metadata": {},
     "output_type": "execute_result"
    },
    {
     "data": {
      "image/png": "[encoded data removed]",
      "text/plain": [
       "<Figure size 432x288 with 1 Axes>"
      ]
     },
     "metadata": {
      "needs_background": "light"
     },
     "output_type": "display_data"
    }
   ],
   "source": [
    "plt.boxplot(ds['temperature'])"
   ]
  },
  {
   "cell_type": "code",
   "execution_count": 42,
   "metadata": {},
   "outputs": [
    {
     "data": {
      "text/plain": [
       "{'whiskers': [<matplotlib.lines.Line2D at 0xce8fb38>,\n",
       "  <matplotlib.lines.Line2D at 0xce8fe80>],\n",
       " 'caps': [<matplotlib.lines.Line2D at 0xce8ff60>,\n",
       "  <matplotlib.lines.Line2D at 0xce99550>],\n",
       " 'boxes': [<matplotlib.lines.Line2D at 0xce8f748>],\n",
       " 'medians': [<matplotlib.lines.Line2D at 0xce99898>],\n",
       " 'fliers': [<matplotlib.lines.Line2D at 0xce99be0>],\n",
       " 'means': []}"
      ]
     },
     "execution_count": 42,
     "metadata": {},
     "output_type": "execute_result"
    },
    {
     "data": {
      "image/png": "[encoded data removed]",
      "text/plain": [
       "<Figure size 432x288 with 1 Axes>"
      ]
     },
     "metadata": {
      "needs_background": "light"
     },
     "output_type": "display_data"
    }
   ],
   "source": [
    "plt.boxplot(ds['humidity'])"
   ]
  },
  {
   "cell_type": "code",
   "execution_count": 43,
   "metadata": {},
   "outputs": [
    {
     "data": {
      "text/plain": [
       "{'whiskers': [<matplotlib.lines.Line2D at 0xd0f3f28>,\n",
       "  <matplotlib.lines.Line2D at 0xd0fc550>],\n",
       " 'caps': [<matplotlib.lines.Line2D at 0xd0fc898>,\n",
       "  <matplotlib.lines.Line2D at 0xd0fcbe0>],\n",
       " 'boxes': [<matplotlib.lines.Line2D at 0xd0f3dd8>],\n",
       " 'medians': [<matplotlib.lines.Line2D at 0xd0fcf28>],\n",
       " 'fliers': [<matplotlib.lines.Line2D at 0xd1072b0>],\n",
       " 'means': []}"
      ]
     },
     "execution_count": 43,
     "metadata": {},
     "output_type": "execute_result"
    },
    {
     "data": {
      "image/png": "[encoded data removed]",
      "text/plain": [
       "<Figure size 432x288 with 1 Axes>"
      ]
     },
     "metadata": {
      "needs_background": "light"
     },
     "output_type": "display_data"
    }
   ],
   "source": [
    "plt.boxplot(ds['windspeed'])"
   ]
  },
  {
   "cell_type": "code",
   "execution_count": 44,
   "metadata": {},
   "outputs": [
    {
     "data": {
      "image/png": "[encoded data removed]",
      "text/plain": [
       "<Figure size 216x216 with 2 Axes>"
      ]
     },
     "metadata": {
      "needs_background": "light"
     },
     "output_type": "display_data"
    }
   ],
   "source": [
    "corr_hmap=ds.corr()\n",
    "plt.figure(figsize=(3,3))\n",
    "sns.heatmap(corr_hmap,annot=True)\n",
    "plt.show()"
   ]
  },
  {
   "cell_type": "code",
   "execution_count": 45,
   "metadata": {},
   "outputs": [
    {
     "data": {
      "image/png": "[encoded data removed]",
      "text/plain": [
       "<Figure size 432x288 with 1 Axes>"
      ]
     },
     "metadata": {
      "needs_background": "light"
     },
     "output_type": "display_data"
    }
   ],
   "source": [
    "####### Since windspeed is negatively affecting the count we, will drop this variable\n",
    "\n",
    "plt.scatter(ds['temperature'],ds['humidity'])\n",
    "plt.xlabel(\"Temperature\")\n",
    "plt.ylabel(\"Humidity\")\n",
    "plt.show()"
   ]
  },
  {
   "cell_type": "code",
   "execution_count": 46,
   "metadata": {},
   "outputs": [
    {
     "data": {
      "image/png": "[encoded data removed]",
      "text/plain": [
       "<Figure size 432x288 with 1 Axes>"
      ]
     },
     "metadata": {
      "needs_background": "light"
     },
     "output_type": "display_data"
    }
   ],
   "source": [
    "plt.scatter(ds['temperature'],ds['windspeed'])\n",
    "plt.xlabel(\"Temperature\")\n",
    "plt.ylabel(\"Wind Speed\")\n",
    "plt.show()"
   ]
  },
  {
   "cell_type": "code",
   "execution_count": 47,
   "metadata": {},
   "outputs": [
    {
     "data": {
      "image/png": "[encoded data removed]",
      "text/plain": [
       "<Figure size 432x288 with 1 Axes>"
      ]
     },
     "metadata": {
      "needs_background": "light"
     },
     "output_type": "display_data"
    }
   ],
   "source": [
    "plt.scatter(ds['humidity'],ds['windspeed'])\n",
    "plt.xlabel(\"Humidity\")\n",
    "plt.ylabel(\"Wind Speed\")\n",
    "plt.show()"
   ]
  },
  {
   "cell_type": "code",
   "execution_count": 48,
   "metadata": {},
   "outputs": [
    {
     "data": {
      "image/png": "[encoded data removed]",
      "text/plain": [
       "<Figure size 432x288 with 1 Axes>"
      ]
     },
     "metadata": {
      "needs_background": "light"
     },
     "output_type": "display_data"
    }
   ],
   "source": [
    "plt.scatter(ds['windspeed'],ds['count'])\n",
    "plt.xlabel(\"Windspeed\")\n",
    "plt.ylabel(\"Count\")\n",
    "plt.show()"
   ]
  },
  {
   "cell_type": "code",
   "execution_count": 49,
   "metadata": {},
   "outputs": [
    {
     "data": {
      "text/plain": [
       "<seaborn.axisgrid.PairGrid at 0xd1267f0>"
      ]
     },
     "execution_count": 49,
     "metadata": {},
     "output_type": "execute_result"
    },
    {
     "data": {
      "image/png": "[encoded data removed]",
      "text/plain": [
       "<Figure size 720x720 with 20 Axes>"
      ]
     },
     "metadata": {
      "needs_background": "light"
     },
     "output_type": "display_data"
    }
   ],
   "source": [
    "sns.pairplot(ds)"
   ]
  },
  {
   "cell_type": "code",
   "execution_count": 50,
   "metadata": {},
   "outputs": [],
   "source": [
    "ds=ds.drop('windspeed',axis=1)"
   ]
  },
  {
   "cell_type": "code",
   "execution_count": 51,
   "metadata": {},
   "outputs": [
    {
     "data": {
      "text/plain": [
       "Index(['date', 'temperature', 'humidity', 'count'], dtype='object')"
      ]
     },
     "execution_count": 51,
     "metadata": {},
     "output_type": "execute_result"
    }
   ],
   "source": [
    "ds.columns"
   ]
  },
  {
   "cell_type": "code",
   "execution_count": 52,
   "metadata": {},
   "outputs": [],
   "source": [
    "x=ds.iloc[:,1:-1]\n",
    "y=ds.iloc[:,-1]"
   ]
  },
  {
   "cell_type": "code",
   "execution_count": 53,
   "metadata": {},
   "outputs": [
    {
     "data": {
      "text/html": [
       "<div>\n",
       "<style scoped>\n",
       "    .dataframe tbody tr th:only-of-type {\n",
       "        vertical-align: middle;\n",
       "    }\n",
       "\n",
       "    .dataframe tbody tr th {\n",
       "        vertical-align: top;\n",
       "    }\n",
       "\n",
       "    .dataframe thead th {\n",
       "        text-align: right;\n",
       "    }\n",
       "</style>\n",
       "<table border=\"1\" class=\"dataframe\">\n",
       "  <thead>\n",
       "    <tr style=\"text-align: right;\">\n",
       "      <th></th>\n",
       "      <th>temperature</th>\n",
       "      <th>humidity</th>\n",
       "    </tr>\n",
       "  </thead>\n",
       "  <tbody>\n",
       "    <tr>\n",
       "      <th>0</th>\n",
       "      <td>2.716070</td>\n",
       "      <td>45.715346</td>\n",
       "    </tr>\n",
       "    <tr>\n",
       "      <th>1</th>\n",
       "      <td>2.896673</td>\n",
       "      <td>54.267219</td>\n",
       "    </tr>\n",
       "    <tr>\n",
       "      <th>2</th>\n",
       "      <td>4.235654</td>\n",
       "      <td>45.697702</td>\n",
       "    </tr>\n",
       "    <tr>\n",
       "      <th>3</th>\n",
       "      <td>3.112643</td>\n",
       "      <td>50.237349</td>\n",
       "    </tr>\n",
       "    <tr>\n",
       "      <th>4</th>\n",
       "      <td>2.723918</td>\n",
       "      <td>49.144928</td>\n",
       "    </tr>\n",
       "  </tbody>\n",
       "</table>\n",
       "</div>"
      ],
      "text/plain": [
       "   temperature   humidity\n",
       "0     2.716070  45.715346\n",
       "1     2.896673  54.267219\n",
       "2     4.235654  45.697702\n",
       "3     3.112643  50.237349\n",
       "4     2.723918  49.144928"
      ]
     },
     "execution_count": 53,
     "metadata": {},
     "output_type": "execute_result"
    }
   ],
   "source": [
    "x.head()"
   ]
  },
  {
   "cell_type": "code",
   "execution_count": 54,
   "metadata": {},
   "outputs": [
    {
     "data": {
      "text/plain": [
       "0    120\n",
       "1    108\n",
       "2     82\n",
       "3     88\n",
       "4    148\n",
       "Name: count, dtype: int32"
      ]
     },
     "execution_count": 54,
     "metadata": {},
     "output_type": "execute_result"
    }
   ],
   "source": [
    "y.head()"
   ]
  },
  {
   "cell_type": "code",
   "execution_count": 55,
   "metadata": {},
   "outputs": [],
   "source": [
    "x_train,x_test,y_train,y_test=train_test_split(x,y,test_size=.33,random_state=51)"
   ]
  },
  {
   "cell_type": "code",
   "execution_count": 56,
   "metadata": {},
   "outputs": [
    {
     "data": {
      "text/plain": [
       "(127, 2)"
      ]
     },
     "execution_count": 56,
     "metadata": {},
     "output_type": "execute_result"
    }
   ],
   "source": [
    "x_train.shape"
   ]
  },
  {
   "cell_type": "code",
   "execution_count": 57,
   "metadata": {},
   "outputs": [
    {
     "data": {
      "text/plain": [
       "(127,)"
      ]
     },
     "execution_count": 57,
     "metadata": {},
     "output_type": "execute_result"
    }
   ],
   "source": [
    "y_train.shape"
   ]
  },
  {
   "cell_type": "code",
   "execution_count": 58,
   "metadata": {},
   "outputs": [
    {
     "data": {
      "text/plain": [
       "(64, 2)"
      ]
     },
     "execution_count": 58,
     "metadata": {},
     "output_type": "execute_result"
    }
   ],
   "source": [
    "x_test.shape"
   ]
  },
  {
   "cell_type": "code",
   "execution_count": 59,
   "metadata": {},
   "outputs": [
    {
     "data": {
      "text/plain": [
       "(64,)"
      ]
     },
     "execution_count": 59,
     "metadata": {},
     "output_type": "execute_result"
    }
   ],
   "source": [
    "y_test.shape"
   ]
  },
  {
   "cell_type": "code",
   "execution_count": 60,
   "metadata": {},
   "outputs": [],
   "source": [
    "lm=LinearRegression()\n",
    "\n",
    "from sklearn.linear_model import Lasso\n",
    "ls=Lasso()"
   ]
  },
  {
   "cell_type": "code",
   "execution_count": 61,
   "metadata": {},
   "outputs": [
    {
     "data": {
      "text/plain": [
       "Lasso(alpha=1.0, copy_X=True, fit_intercept=True, max_iter=1000,\n",
       "   normalize=False, positive=False, precompute=False, random_state=None,\n",
       "   selection='cyclic', tol=0.0001, warm_start=False)"
      ]
     },
     "execution_count": 61,
     "metadata": {},
     "output_type": "execute_result"
    }
   ],
   "source": [
    "ls.fit(x_train,y_train)"
   ]
  },
  {
   "cell_type": "code",
   "execution_count": 62,
   "metadata": {},
   "outputs": [
    {
     "data": {
      "text/plain": [
       "0.7863449085457248"
      ]
     },
     "execution_count": 62,
     "metadata": {},
     "output_type": "execute_result"
    }
   ],
   "source": [
    "ls.score(x_train,y_train)"
   ]
  },
  {
   "cell_type": "code",
   "execution_count": 63,
   "metadata": {},
   "outputs": [
    {
     "data": {
      "text/plain": [
       "array([29.73364564, -4.16004521])"
      ]
     },
     "execution_count": 63,
     "metadata": {},
     "output_type": "execute_result"
    }
   ],
   "source": [
    "ls.coef_"
   ]
  },
  {
   "cell_type": "code",
   "execution_count": 64,
   "metadata": {},
   "outputs": [
    {
     "data": {
      "text/plain": [
       "236.17372446506846"
      ]
     },
     "execution_count": 64,
     "metadata": {},
     "output_type": "execute_result"
    }
   ],
   "source": [
    "ls.intercept_"
   ]
  },
  {
   "cell_type": "code",
   "execution_count": 65,
   "metadata": {},
   "outputs": [],
   "source": [
    "pred=ls.predict(x_test)"
   ]
  },
  {
   "cell_type": "code",
   "execution_count": 66,
   "metadata": {},
   "outputs": [
    {
     "name": "stdout",
     "output_type": "stream",
     "text": [
      "Predicted Count:  [139.51531396 228.5027896  303.19404145  48.90768551 -32.06946069\n",
      " 445.53419507 800.77604643 378.78818836 752.57354804 411.18226905\n",
      "  72.73438873 377.20772721 701.85241597 112.72060389 552.71930547\n",
      "  56.36617844 674.41094522 764.88415633  59.19928653 272.55627791\n",
      " 328.64648637 157.28964323 112.73283386 463.92890969 771.72572476\n",
      " 793.38080566 521.90041339  54.56983949 535.30337719 221.98246264\n",
      " 939.64429337  28.61662279 683.07668011 255.72148773 168.03974525\n",
      " 494.69097898 464.69447913 898.33263775 611.1395258   52.1720607\n",
      " 114.45518995  61.63971204 653.89673321 195.11668329 718.36882518\n",
      " 712.82294591 531.36747461 935.02649273 196.81983405 271.00128629\n",
      " 258.28108059 781.40916532 643.30884418 254.90490871  73.23193249\n",
      " 906.27650955 167.53609913 916.75897622 687.15134287 686.0599806\n",
      "  58.16251739 514.35298832 592.51853772 406.17027385]\n",
      "Actual Count:  36       64\n",
      "82      274\n",
      "70      359\n",
      "7        41\n",
      "21       86\n",
      "78      460\n",
      "154     673\n",
      "121     255\n",
      "142     740\n",
      "73      424\n",
      "10       38\n",
      "96      399\n",
      "113     678\n",
      "4       148\n",
      "104     634\n",
      "14       20\n",
      "107     613\n",
      "169     774\n",
      "23       34\n",
      "64      316\n",
      "58      231\n",
      "59      123\n",
      "31       61\n",
      "42      208\n",
      "151     898\n",
      "175     854\n",
      "108     745\n",
      "13       31\n",
      "124     817\n",
      "88      307\n",
      "       ... \n",
      "35      120\n",
      "130     692\n",
      "45      259\n",
      "177     848\n",
      "127     694\n",
      "19       78\n",
      "32       88\n",
      "27       40\n",
      "112     773\n",
      "65      191\n",
      "166     808\n",
      "162     727\n",
      "90      591\n",
      "148     673\n",
      "63      244\n",
      "68      284\n",
      "43      140\n",
      "152     823\n",
      "139     860\n",
      "67      247\n",
      "50       74\n",
      "182    1084\n",
      "51      139\n",
      "189     723\n",
      "120     603\n",
      "91      734\n",
      "15        9\n",
      "97      627\n",
      "128     550\n",
      "93      413\n",
      "Name: count, Length: 64, dtype: int32\n"
     ]
    }
   ],
   "source": [
    "print(\"Predicted Count: \",pred)\n",
    "print(\"Actual Count: \",y_test)"
   ]
  },
  {
   "cell_type": "code",
   "execution_count": 67,
   "metadata": {},
   "outputs": [
    {
     "name": "stdout",
     "output_type": "stream",
     "text": [
      "Error:\n",
      "11828.434990957096\n"
     ]
    }
   ],
   "source": [
    "print(\"Error:\")\n",
    "print(mean_squared_error(y_test,pred))"
   ]
  },
  {
   "cell_type": "code",
   "execution_count": 68,
   "metadata": {},
   "outputs": [
    {
     "name": "stdout",
     "output_type": "stream",
     "text": [
      "0.8722606850769832\n"
     ]
    }
   ],
   "source": [
    "from sklearn.metrics import r2_score\n",
    "print(r2_score(y_test,pred))"
   ]
  },
  {
   "cell_type": "code",
   "execution_count": null,
   "metadata": {},
   "outputs": [],
   "source": []
  }
 ],
 "metadata": {
  "kernelspec": {
   "display_name": "Python 3",
   "language": "python",
   "name": "python3"
  },
  "language_info": {
   "codemirror_mode": {
    "name": "ipython",
    "version": 3
   },
   "file_extension": ".py",
   "mimetype": "text/x-python",
   "name": "python",
   "nbconvert_exporter": "python",
   "pygments_lexer": "ipython3",
   "version": "3.7.1"
  }
 },
 "nbformat": 4,
 "nbformat_minor": 2
}
